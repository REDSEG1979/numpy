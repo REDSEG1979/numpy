{
 "cells": [
  {
   "cell_type": "code",
   "execution_count": 1,
   "id": "cf47133d",
   "metadata": {},
   "outputs": [],
   "source": [
    "import numpy as np"
   ]
  },
  {
   "cell_type": "code",
   "execution_count": 2,
   "id": "fc7e6de5",
   "metadata": {},
   "outputs": [
    {
     "name": "stdout",
     "output_type": "stream",
     "text": [
      "enter number of sutdents:3\n",
      "enter number of subjects:2\n",
      "3\n",
      "2\n"
     ]
    }
   ],
   "source": [
    "number_students = int(input(\"enter number of sutdents:\"))\n",
    "number_subjects = int(input(\"enter number of subjects:\"))\n",
    "print(number_students)\n",
    "print(number_subjects)"
   ]
  },
  {
   "cell_type": "code",
   "execution_count": 3,
   "id": "553d80bd",
   "metadata": {},
   "outputs": [
    {
     "name": "stdout",
     "output_type": "stream",
     "text": [
      "[[0. 0.]\n",
      " [0. 0.]\n",
      " [0. 0.]]\n"
     ]
    }
   ],
   "source": [
    "myarray= np.zeros((number_students,number_subjects))\n",
    "print(myarray)"
   ]
  },
  {
   "cell_type": "code",
   "execution_count": 4,
   "id": "93e552cd",
   "metadata": {},
   "outputs": [
    {
     "name": "stdout",
     "output_type": "stream",
     "text": [
      "Student 0 - subject 0\n",
      "enter mark:10\n",
      "Student 0 - subject 1\n",
      "enter mark:14\n",
      "Student 1 - subject 0\n",
      "enter mark:6\n",
      "Student 1 - subject 1\n",
      "enter mark:7\n",
      "Student 2 - subject 0\n",
      "enter mark:18\n",
      "Student 2 - subject 1\n",
      "enter mark:19\n"
     ]
    }
   ],
   "source": [
    "for i in range(0, number_students):\n",
    "    for j in range(number_subjects):\n",
    "        myarray[i, j]=int(input(f\"Student {i} - subject {j}\\nenter mark:\"))"
   ]
  },
  {
   "cell_type": "code",
   "execution_count": 5,
   "id": "e503afd4",
   "metadata": {},
   "outputs": [
    {
     "data": {
      "text/plain": [
       "array([[10., 14.],\n",
       "       [ 6.,  7.],\n",
       "       [18., 19.]])"
      ]
     },
     "execution_count": 5,
     "metadata": {},
     "output_type": "execute_result"
    }
   ],
   "source": [
    "myarray"
   ]
  },
  {
   "cell_type": "code",
   "execution_count": 10,
   "id": "ca05ecaf",
   "metadata": {},
   "outputs": [
    {
     "data": {
      "text/plain": [
       "array([24., 13., 37.])"
      ]
     },
     "execution_count": 10,
     "metadata": {},
     "output_type": "execute_result"
    }
   ],
   "source": [
    "total = myarray.sum(axis=1)\n",
    "total"
   ]
  },
  {
   "cell_type": "code",
   "execution_count": 12,
   "id": "728cf6b2",
   "metadata": {},
   "outputs": [
    {
     "data": {
      "text/plain": [
       "array([60. , 32.5, 92.5])"
      ]
     },
     "execution_count": 12,
     "metadata": {},
     "output_type": "execute_result"
    }
   ],
   "source": [
    "percentage = (total / (number_subjects * 20)) * 100\n",
    "percentage"
   ]
  },
  {
   "cell_type": "code",
   "execution_count": 48,
   "id": "c94732e7",
   "metadata": {},
   "outputs": [
    {
     "data": {
      "text/plain": [
       "array(['B', 'C', 'F', 'B+', 'A', 'A+'], dtype=object)"
      ]
     },
     "execution_count": 48,
     "metadata": {},
     "output_type": "execute_result"
    }
   ],
   "source": [
    "percentage = np.array([60., 57, 32.5, 72, 86, 92.5])\n",
    "\n",
    "grades = np.zeros_like(percentage, dtype=object)\n",
    "grades\n",
    "\n",
    "grade_dict = {\n",
    "    \"A+\": 90,\n",
    "    \"A\": 80,\n",
    "    \"B+\": 70,\n",
    "    \"B\": 60,\n",
    "    \"C\": 50,\n",
    "}\n",
    "\n",
    "for gr, p in grade_dict.items():\n",
    "    grades[(percentage >= p) & (grades == 0)] = gr\n",
    "    \n",
    "grades[(grades == 0)] = 'F'\n",
    "grades"
   ]
  }
 ],
 "metadata": {
  "kernelspec": {
   "display_name": "Python 3 (ipykernel)",
   "language": "python",
   "name": "python3"
  },
  "language_info": {
   "codemirror_mode": {
    "name": "ipython",
    "version": 3
   },
   "file_extension": ".py",
   "mimetype": "text/x-python",
   "name": "python",
   "nbconvert_exporter": "python",
   "pygments_lexer": "ipython3",
   "version": "3.10.9"
  }
 },
 "nbformat": 4,
 "nbformat_minor": 5
}
